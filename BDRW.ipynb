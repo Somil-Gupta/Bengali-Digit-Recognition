{
 "cells": [
  {
   "cell_type": "code",
   "execution_count": 1,
   "metadata": {
    "colab": {},
    "colab_type": "code",
    "id": "S14dmPUGxDPM"
   },
   "outputs": [],
   "source": [
    "import torch\n",
    "import torch.nn   \n",
    "import torch.optim\n",
    "import torch.nn.functional \n",
    "import torchvision.datasets  \n",
    "import torchvision.transforms   \n",
    "\n",
    "\n",
    "from torch.autograd import Variable\n",
    "from torch.nn import Linear, ReLU, CrossEntropyLoss, Sequential, Conv2d, MaxPool2d, Module, Softmax, BatchNorm2d, Dropout\n",
    "from torch.optim import Adam, SGD\n",
    "\n",
    "import numpy as np \n",
    "from matplotlib import pyplot \n",
    "from matplotlib.pyplot import subplot     \n",
    "from sklearn.metrics import accuracy_score\n",
    "import re\n",
    "import glob\n",
    "import cv2\n",
    "\n",
    "from scipy.ndimage.interpolation import zoom\n",
    "import pandas as pd\n",
    "import numpy as np\n",
    "import random\n",
    "%matplotlib inline"
   ]
  },
  {
   "cell_type": "code",
   "execution_count": 2,
   "metadata": {
    "colab": {},
    "colab_type": "code",
    "id": "6PznSbgGxDPR",
    "outputId": "8576c0ac-228b-4b38-eae6-430f1a03e9a6",
    "scrolled": true
   },
   "outputs": [],
   "source": [
    "labels = pd.read_excel(\"BDRW_train_data/labels.xls\",header=None)\n",
    "labels.columns = ['digit', 'label']"
   ]
  },
  {
   "cell_type": "code",
   "execution_count": 3,
   "metadata": {
    "colab": {},
    "colab_type": "code",
    "id": "Lx0H1SFTxDPV",
    "outputId": "9ab73a6a-d6b9-4d36-c6a3-f2239a37d99a"
   },
   "outputs": [
    {
     "data": {
      "text/plain": [
       "<matplotlib.axes._subplots.AxesSubplot at 0x23955539648>"
      ]
     },
     "execution_count": 3,
     "metadata": {},
     "output_type": "execute_result"
    },
    {
     "data": {
      "image/png": "[encoded data removed]",
      "text/plain": [
       "<Figure size 432x288 with 1 Axes>"
      ]
     },
     "metadata": {
      "needs_background": "light"
     },
     "output_type": "display_data"
    }
   ],
   "source": [
    "labels.label.hist()"
   ]
  },
  {
   "cell_type": "code",
   "execution_count": 4,
   "metadata": {
    "colab": {},
    "colab_type": "code",
    "id": "9Ue33MWqxDPY",
    "outputId": "b0b867d2-9e91-45c7-e1f5-e79ff276fb78"
   },
   "outputs": [
    {
     "name": "stdout",
     "output_type": "stream",
     "text": [
      "input_data shape:  (1393, 32, 32)\n"
     ]
    }
   ],
   "source": [
    "image_list = []\n",
    "size = 32\n",
    "numbers = re.compile(r'(\\d+)')\n",
    "def Sort(value):\n",
    "    parts = numbers.split(value)\n",
    "    parts[1::2] = map(int, parts[1::2])\n",
    "    return parts\n",
    "for filename in sorted(glob.glob(\"BDRW_train_data/*.jpg\"), key=Sort):\n",
    "    im=cv2.imread(filename, 0)\n",
    "    im=cv2.resize(im, (size, size))\n",
    "    image_list.append(np.array(im))\n",
    "    \n",
    "input_data = np.array(image_list)\n",
    "input_data= (input_data)/float(256) - 0.5\n",
    "outputs = labels.iloc[:,1:].values\n",
    "\n",
    "print('input_data shape: ',input_data.shape)"
   ]
  },
  {
   "cell_type": "code",
   "execution_count": 5,
   "metadata": {
    "colab": {},
    "colab_type": "code",
    "id": "O06djk8lxDPg"
   },
   "outputs": [],
   "source": [
    "#shuffle input to handle class imbalance\n",
    "indices = np.arange(input_data.shape[0])\n",
    "np.random.shuffle(indices)\n",
    "input_data = input_data[indices]\n",
    "outputs = outputs[indices]\n",
    "\n",
    "input_data = input_data.reshape(input_data.shape[0], 1, size, size)\n",
    "train_x = input_data[:int(0.8*len(input_data))]\n",
    "train_x  = torch.from_numpy(train_x)\n",
    "train_y = outputs[:int(0.8*len(outputs))]\n",
    "train_y = torch.from_numpy(train_y)\n",
    "train_y = train_y.squeeze()\n",
    "\n",
    "val_x = input_data[int(0.8*len(input_data)):int(0.90*len(input_data))]\n",
    "val_x  = torch.from_numpy(val_x)\n",
    "val_y = outputs[int(0.8*len(outputs)):int(0.90*len(outputs))]\n",
    "val_y = torch.from_numpy(val_y)\n",
    "val_y = val_y.squeeze()\n",
    "\n",
    "test_x = input_data[int(0.90*len(input_data)):]\n",
    "test_x  = torch.from_numpy(test_x)\n",
    "test_y = outputs[int(0.90*len(outputs)):]"
   ]
  },
  {
   "cell_type": "code",
   "execution_count": 6,
   "metadata": {
    "colab": {},
    "colab_type": "code",
    "id": "2llMnNZwxDPj"
   },
   "outputs": [],
   "source": [
    "class Net(torch.nn.Module):\n",
    "     \n",
    "    def __init__(self):   \n",
    "        super(Net, self).__init__()\n",
    "        self.conv1 = torch.nn.Conv2d(in_channels=1, out_channels=6, kernel_size=5, stride=1, padding=2, bias=True)\n",
    "        self.max_pool_1 = torch.nn.MaxPool2d(kernel_size=2)\n",
    "        self.conv2 = torch.nn.Conv2d(in_channels=6, out_channels=16, kernel_size=5, stride=1, padding=0, bias=True)\n",
    "        self.max_pool_2 = torch.nn.MaxPool2d(kernel_size=2)\n",
    "        self.fc1 = torch.nn.Linear(24*24, 120)   \n",
    "        self.fc2 = torch.nn.Linear(120, 84)      \n",
    "        self.fc3 = torch.nn.Linear(84, 10)        \n",
    "        \n",
    "    def forward(self, x):\n",
    "        x = torch.nn.functional.relu(self.conv1(x))  \n",
    "        x = self.max_pool_1(x)\n",
    "        x = torch.nn.functional.relu(self.conv2(x))\n",
    "        x = self.max_pool_2(x)\n",
    "        x = x.view(-1, 24*24)\n",
    "        x = torch.nn.functional.relu(self.fc1(x))\n",
    "        x = torch.nn.functional.sigmoid(self.fc2(x))\n",
    "        x = self.fc3(x)\n",
    "        \n",
    "        return x\n",
    "     \n"
   ]
  },
  {
   "cell_type": "code",
   "execution_count": 7,
   "metadata": {
    "colab": {},
    "colab_type": "code",
    "id": "sllgxnpXxDPm",
    "outputId": "4444692a-7f38-4f5f-d590-6cb174d2be14"
   },
   "outputs": [],
   "source": [
    "model = Net()\n",
    "optimizer = Adam(model.parameters(), lr=0.0045)\n",
    "criterion = CrossEntropyLoss()"
   ]
  },
  {
   "cell_type": "code",
   "execution_count": 8,
   "metadata": {
    "colab": {},
    "colab_type": "code",
    "id": "ESvUEZlLxDPq"
   },
   "outputs": [],
   "source": [
    "def train(epoch):\n",
    "    model.train()\n",
    "    tr_loss = 0\n",
    "    x_train, y_train = Variable(train_x), Variable(train_y)\n",
    "    x_val, y_val = Variable(val_x), Variable(val_y)\n",
    "\n",
    "    optimizer.zero_grad()\n",
    "    \n",
    "    output_train = model(x_train.float())\n",
    "    output_val = model(x_val.float())\n",
    "\n",
    "    loss_train = criterion(output_train, y_train)\n",
    "    loss_val = criterion(output_val, y_val)\n",
    "    train_losses.append(loss_train)\n",
    "    val_losses.append(loss_val)\n",
    "\n",
    "    loss_train.backward()\n",
    "    optimizer.step()\n",
    "    tr_loss = loss_train.item()\n",
    "    if epoch%1 == 0:\n",
    "        print('Epoch : ',epoch+1, '\\t', 'running_loss :', loss_val.clone().item())"
   ]
  },
  {
   "cell_type": "code",
   "execution_count": 9,
   "metadata": {
    "colab": {},
    "colab_type": "code",
    "id": "v1HpzDsXxDPw",
    "outputId": "83d306d5-4961-4a30-f818-b2d46ad5712d"
   },
   "outputs": [
    {
     "name": "stderr",
     "output_type": "stream",
     "text": [
      "C:\\Users\\ishu jatav\\anaconda3\\lib\\site-packages\\torch\\nn\\functional.py:1351: UserWarning: nn.functional.sigmoid is deprecated. Use torch.sigmoid instead.\n",
      "  warnings.warn(\"nn.functional.sigmoid is deprecated. Use torch.sigmoid instead.\")\n"
     ]
    },
    {
     "name": "stdout",
     "output_type": "stream",
     "text": [
      "Epoch :  1 \t running_loss : 2.292116641998291\n",
      "Epoch :  2 \t running_loss : 2.2254204750061035\n",
      "Epoch :  3 \t running_loss : 2.2273426055908203\n",
      "Epoch :  4 \t running_loss : 2.246332883834839\n",
      "Epoch :  5 \t running_loss : 2.237722158432007\n",
      "Epoch :  6 \t running_loss : 2.21921968460083\n",
      "Epoch :  7 \t running_loss : 2.1994662284851074\n",
      "Epoch :  8 \t running_loss : 2.1801984310150146\n",
      "Epoch :  9 \t running_loss : 2.158424139022827\n",
      "Epoch :  10 \t running_loss : 2.1309754848480225\n",
      "Epoch :  11 \t running_loss : 2.0968141555786133\n",
      "Epoch :  12 \t running_loss : 2.0558578968048096\n",
      "Epoch :  13 \t running_loss : 2.0078799724578857\n",
      "Epoch :  14 \t running_loss : 1.961012601852417\n",
      "Epoch :  15 \t running_loss : 1.9207500219345093\n",
      "Epoch :  16 \t running_loss : 1.8802096843719482\n",
      "Epoch :  17 \t running_loss : 1.8276610374450684\n",
      "Epoch :  18 \t running_loss : 1.7684590816497803\n",
      "Epoch :  19 \t running_loss : 1.7141313552856445\n",
      "Epoch :  20 \t running_loss : 1.6603624820709229\n",
      "Epoch :  21 \t running_loss : 1.6066820621490479\n",
      "Epoch :  22 \t running_loss : 1.5527836084365845\n",
      "Epoch :  23 \t running_loss : 1.4999202489852905\n",
      "Epoch :  24 \t running_loss : 1.4450784921646118\n",
      "Epoch :  25 \t running_loss : 1.3884800672531128\n",
      "Epoch :  26 \t running_loss : 1.331614375114441\n",
      "Epoch :  27 \t running_loss : 1.2723292112350464\n",
      "Epoch :  28 \t running_loss : 1.2116726636886597\n",
      "Epoch :  29 \t running_loss : 1.155390739440918\n",
      "Epoch :  30 \t running_loss : 1.1079916954040527\n",
      "Epoch :  31 \t running_loss : 1.0598429441452026\n",
      "Epoch :  32 \t running_loss : 1.0108058452606201\n",
      "Epoch :  33 \t running_loss : 0.9680054187774658\n",
      "Epoch :  34 \t running_loss : 0.9291847348213196\n",
      "Epoch :  35 \t running_loss : 0.8968284726142883\n",
      "Epoch :  36 \t running_loss : 0.8667289018630981\n",
      "Epoch :  37 \t running_loss : 0.8373829126358032\n",
      "Epoch :  38 \t running_loss : 0.8048022389411926\n",
      "Epoch :  39 \t running_loss : 0.7641118764877319\n",
      "Epoch :  40 \t running_loss : 0.7234468460083008\n",
      "Epoch :  41 \t running_loss : 0.6878823041915894\n",
      "Epoch :  42 \t running_loss : 0.656154215335846\n",
      "Epoch :  43 \t running_loss : 0.6289892792701721\n",
      "Epoch :  44 \t running_loss : 0.6026397943496704\n",
      "Epoch :  45 \t running_loss : 0.5828776955604553\n",
      "Epoch :  46 \t running_loss : 0.5560196042060852\n",
      "Epoch :  47 \t running_loss : 0.531389594078064\n",
      "Epoch :  48 \t running_loss : 0.5082912445068359\n",
      "Epoch :  49 \t running_loss : 0.482319176197052\n",
      "Epoch :  50 \t running_loss : 0.46209385991096497\n",
      "Epoch :  51 \t running_loss : 0.43747442960739136\n",
      "Epoch :  52 \t running_loss : 0.420891672372818\n",
      "Epoch :  53 \t running_loss : 0.4051085412502289\n",
      "Epoch :  54 \t running_loss : 0.39085400104522705\n",
      "Epoch :  55 \t running_loss : 0.3741658926010132\n",
      "Epoch :  56 \t running_loss : 0.35581299662590027\n",
      "Epoch :  57 \t running_loss : 0.34409746527671814\n",
      "Epoch :  58 \t running_loss : 0.33113154768943787\n",
      "Epoch :  59 \t running_loss : 0.3278105556964874\n",
      "Epoch :  60 \t running_loss : 0.3233664631843567\n",
      "Epoch :  61 \t running_loss : 0.3138732314109802\n",
      "Epoch :  62 \t running_loss : 0.3087494671344757\n",
      "Epoch :  63 \t running_loss : 0.30007609724998474\n",
      "Epoch :  64 \t running_loss : 0.28981924057006836\n",
      "Epoch :  65 \t running_loss : 0.28148362040519714\n",
      "Epoch :  66 \t running_loss : 0.27217647433280945\n",
      "Epoch :  67 \t running_loss : 0.26620689034461975\n",
      "Epoch :  68 \t running_loss : 0.26261022686958313\n",
      "Epoch :  69 \t running_loss : 0.26033520698547363\n",
      "Epoch :  70 \t running_loss : 0.26033592224121094\n",
      "Epoch :  71 \t running_loss : 0.259660929441452\n",
      "Epoch :  72 \t running_loss : 0.25746285915374756\n",
      "Epoch :  73 \t running_loss : 0.257618248462677\n",
      "Epoch :  74 \t running_loss : 0.2592082619667053\n",
      "Epoch :  75 \t running_loss : 0.2594361901283264\n",
      "Epoch :  76 \t running_loss : 0.25973939895629883\n",
      "Epoch :  77 \t running_loss : 0.26130756735801697\n",
      "Epoch :  78 \t running_loss : 0.26163536310195923\n",
      "Epoch :  79 \t running_loss : 0.2605317234992981\n",
      "Epoch :  80 \t running_loss : 0.26019179821014404\n",
      "Epoch :  81 \t running_loss : 0.2599928677082062\n",
      "Epoch :  82 \t running_loss : 0.2586621642112732\n",
      "Epoch :  83 \t running_loss : 0.2564944326877594\n",
      "Epoch :  84 \t running_loss : 0.25619223713874817\n",
      "Epoch :  85 \t running_loss : 0.2576272189617157\n",
      "Epoch :  86 \t running_loss : 0.2592533528804779\n",
      "Epoch :  87 \t running_loss : 0.2595028579235077\n",
      "Epoch :  88 \t running_loss : 0.25793153047561646\n",
      "Epoch :  89 \t running_loss : 0.25569483637809753\n",
      "Epoch :  90 \t running_loss : 0.25372713804244995\n"
     ]
    }
   ],
   "source": [
    "n_epochs = 90\n",
    "train_losses = []\n",
    "val_losses = []\n",
    "for epoch in range(n_epochs):\n",
    "    train(epoch)"
   ]
  },
  {
   "cell_type": "code",
   "execution_count": 11,
   "metadata": {
    "colab": {},
    "colab_type": "code",
    "id": "E35MYJxOxDPz",
    "outputId": "d0ba1a62-ecd0-4297-a311-90b3d2cc79a2"
   },
   "outputs": [
    {
     "data": {
      "image/png": "[encoded data removed]",
      "text/plain": [
       "<Figure size 432x288 with 1 Axes>"
      ]
     },
     "metadata": {
      "needs_background": "light"
     },
     "output_type": "display_data"
    }
   ],
   "source": [
    "pyplot.plot(train_losses, label='Training loss')\n",
    "pyplot.plot(val_losses, label='Validation loss')\n",
    "pyplot.legend()\n",
    "pyplot.show()"
   ]
  },
  {
   "cell_type": "code",
   "execution_count": 12,
   "metadata": {
    "colab": {},
    "colab_type": "code",
    "id": "GsGgolXHxDP5",
    "outputId": "3ebe48c2-10dd-4134-b144-2d62af7efff7"
   },
   "outputs": [
    {
     "name": "stderr",
     "output_type": "stream",
     "text": [
      "C:\\Users\\ishu jatav\\anaconda3\\lib\\site-packages\\torch\\nn\\functional.py:1351: UserWarning: nn.functional.sigmoid is deprecated. Use torch.sigmoid instead.\n",
      "  warnings.warn(\"nn.functional.sigmoid is deprecated. Use torch.sigmoid instead.\")\n"
     ]
    },
    {
     "name": "stdout",
     "output_type": "stream",
     "text": [
      "Accuracy: 0.9285714285714286\n"
     ]
    }
   ],
   "source": [
    "output = model(test_x.float())\n",
    "softmax = torch.exp(output)\n",
    "prob = list(softmax.detach().numpy())\n",
    "predictions = np.argmax(prob, axis=1)\n",
    "correct = 0\n",
    "for i in range(len(test_y)):\n",
    "    if test_y[i] == predictions[i]:\n",
    "        correct = correct + 1\n",
    "        \n",
    "print(\"Accuracy: \" + str(correct/len(test_y)))"
   ]
  },
  {
   "cell_type": "code",
   "execution_count": 0,
   "metadata": {
    "colab": {},
    "colab_type": "code",
    "id": "yoY2O3JFxDP8"
   },
   "outputs": [],
   "source": []
  }
 ],
 "metadata": {
  "colab": {
   "collapsed_sections": [],
   "name": "coding_1.ipynb",
   "provenance": []
  },
  "kernelspec": {
   "display_name": "Python 3",
   "language": "python",
   "name": "python3"
  },
  "language_info": {
   "codemirror_mode": {
    "name": "ipython",
    "version": 3
   },
   "file_extension": ".py",
   "mimetype": "text/x-python",
   "name": "python",
   "nbconvert_exporter": "python",
   "pygments_lexer": "ipython3",
   "version": "3.7.6"
  }
 },
 "nbformat": 4,
 "nbformat_minor": 1
}
